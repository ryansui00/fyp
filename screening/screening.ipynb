{
 "cells": [
  {
   "cell_type": "code",
   "execution_count": 1,
   "metadata": {},
   "outputs": [],
   "source": [
    "#Import libraries\n",
    "import numpy as np\n",
    "import pandas as pd\n",
    "import seaborn as sns\n",
    "import matplotlib.pyplot as plt\n",
    "import pickle\n",
    "\n",
    "from rdkit import Chem\n",
    "from rdkit.Chem import AllChem\n",
    "from rdkit.Chem import DataStructs"
   ]
  },
  {
   "cell_type": "code",
   "execution_count": 2,
   "metadata": {},
   "outputs": [],
   "source": [
    "#Import dataset\n",
    "df = pd.read_csv(\"PI1M_v2.csv\")\n",
    "\n",
    "#Generate molecules\n",
    "df['ROMol'] = df.apply(lambda x: Chem.MolFromSmiles(x['SMILES']), axis=1)\n",
    "# print(df.head())\n",
    "\n",
    "#Generate Morgan Fingerprints with Frequency (MFF) and convert RDKit object to numpy array\n",
    "def computeMFF_tgc(mol, depth=2, nBits=98):\n",
    "    arr = np.zeros(nBits)\n",
    "    try:\n",
    "      DataStructs.ConvertToNumpyArray(AllChem.GetHashedMorganFingerprint(mol,depth,nBits),arr)\n",
    "    except:\n",
    "      return None\n",
    "    return arr\n",
    "\n",
    "def computeMFF_egc(mol, depth=2, nBits=2048):\n",
    "    arr = np.zeros(nBits)\n",
    "    try:\n",
    "      DataStructs.ConvertToNumpyArray(AllChem.GetHashedMorganFingerprint(mol,depth,nBits),arr)\n",
    "    except:\n",
    "      return None\n",
    "    return arr\n",
    "\n",
    "df['MFF_tgc'] = df.apply(lambda x: computeMFF_tgc(x['ROMol']),axis=1)\n",
    "X_tgc = np.array(df['MFF_tgc'].values.tolist())\n",
    "df['MFF_egc'] = df.apply(lambda x: computeMFF_egc(x['ROMol']),axis=1)\n",
    "X_egc = np.array(df['MFF_egc'].values.tolist())"
   ]
  },
  {
   "cell_type": "code",
   "execution_count": 3,
   "metadata": {},
   "outputs": [
    {
     "name": "stderr",
     "output_type": "stream",
     "text": [
      "/Users/ryansui/anaconda3/envs/tao2021/lib/python3.11/site-packages/sklearn/base.py:318: UserWarning: Trying to unpickle estimator DecisionTreeRegressor from version 0.24.1 when using version 1.2.2. This might lead to breaking code or invalid results. Use at your own risk. For more info please refer to:\n",
      "https://scikit-learn.org/stable/model_persistence.html#security-maintainability-limitations\n",
      "  warnings.warn(\n",
      "/Users/ryansui/anaconda3/envs/tao2021/lib/python3.11/site-packages/sklearn/base.py:318: UserWarning: Trying to unpickle estimator RandomForestRegressor from version 0.24.1 when using version 1.2.2. This might lead to breaking code or invalid results. Use at your own risk. For more info please refer to:\n",
      "https://scikit-learn.org/stable/model_persistence.html#security-maintainability-limitations\n",
      "  warnings.warn(\n"
     ]
    }
   ],
   "source": [
    "#import model\n",
    "tgc = pickle.load(open(\"Tg_C_Predictor.model\",\"rb\")) #taken from Tao 2021 (https://doi.org/10.1021/acs.jcim.1c01031)\n",
    "y = tgc.predict(X_tgc)\n",
    "df['Tg_C'] = y\n",
    "del y\n",
    "\n",
    "egc = pickle.load(open(\"Eg_C_Predictor.model\",\"rb\")) #taken from generated model in model folder - Note: Remember to change the filename to match the saved model\n",
    "y = egc.predict(X_egc)\n",
    "df['Eg_C'] = y\n",
    "del y\n",
    "\n",
    "# df.to_csv(\"output.csv\",index=False)"
   ]
  },
  {
   "cell_type": "code",
   "execution_count": 4,
   "metadata": {},
   "outputs": [
    {
     "data": {
      "text/html": [
       "<div>\n",
       "<style scoped>\n",
       "    .dataframe tbody tr th:only-of-type {\n",
       "        vertical-align: middle;\n",
       "    }\n",
       "\n",
       "    .dataframe tbody tr th {\n",
       "        vertical-align: top;\n",
       "    }\n",
       "\n",
       "    .dataframe thead th {\n",
       "        text-align: right;\n",
       "    }\n",
       "</style>\n",
       "<table border=\"1\" class=\"dataframe\">\n",
       "  <thead>\n",
       "    <tr style=\"text-align: right;\">\n",
       "      <th></th>\n",
       "      <th>SMILES</th>\n",
       "      <th>SA Score</th>\n",
       "      <th>ROMol</th>\n",
       "      <th>MFF_tgc</th>\n",
       "      <th>MFF_egc</th>\n",
       "      <th>Tg_C</th>\n",
       "      <th>Eg_C</th>\n",
       "    </tr>\n",
       "  </thead>\n",
       "  <tbody>\n",
       "    <tr>\n",
       "      <th>0</th>\n",
       "      <td>*CCC[Fe]CCCC(=O)OCCCCOCCCNCC(*)=O</td>\n",
       "      <td>4.174851</td>\n",
       "      <td>&lt;rdkit.Chem.rdchem.Mol object at 0x17baaa810&gt;</td>\n",
       "      <td>[1.0, 1.0, 0.0, 0.0, 0.0, 2.0, 0.0, 1.0, 2.0, ...</td>\n",
       "      <td>[0.0, 0.0, 0.0, 0.0, 0.0, 0.0, 0.0, 0.0, 0.0, ...</td>\n",
       "      <td>58.654611</td>\n",
       "      <td>5.993917</td>\n",
       "    </tr>\n",
       "  </tbody>\n",
       "</table>\n",
       "</div>"
      ],
      "text/plain": [
       "                              SMILES  SA Score  \\\n",
       "0  *CCC[Fe]CCCC(=O)OCCCCOCCCNCC(*)=O  4.174851   \n",
       "\n",
       "                                           ROMol  \\\n",
       "0  <rdkit.Chem.rdchem.Mol object at 0x17baaa810>   \n",
       "\n",
       "                                             MFF_tgc  \\\n",
       "0  [1.0, 1.0, 0.0, 0.0, 0.0, 2.0, 0.0, 1.0, 2.0, ...   \n",
       "\n",
       "                                             MFF_egc       Tg_C      Eg_C  \n",
       "0  [0.0, 0.0, 0.0, 0.0, 0.0, 0.0, 0.0, 0.0, 0.0, ...  58.654611  5.993917  "
      ]
     },
     "execution_count": 4,
     "metadata": {},
     "output_type": "execute_result"
    }
   ],
   "source": [
    "df.head(1)"
   ]
  },
  {
   "cell_type": "code",
   "execution_count": 5,
   "metadata": {},
   "outputs": [],
   "source": [
    "#Full dataset\n",
    "df = df.drop(['MFF_tgc','MFF_egc','ROMol'],axis=1)\n",
    "df.to_csv(\"PI1M_Processed.csv\",index=False)\n"
   ]
  },
  {
   "cell_type": "code",
   "execution_count": 6,
   "metadata": {},
   "outputs": [],
   "source": [
    "#Filtered dataset\n",
    "filtered_df = df[df['Eg_C'] <= 2.0]\n",
    "filtered_df.to_csv(\"Filtered_Polymers.csv\",index=False)"
   ]
  }
 ],
 "metadata": {
  "kernelspec": {
   "display_name": "Python 3 (ipykernel)",
   "language": "python",
   "name": "python3"
  },
  "language_info": {
   "codemirror_mode": {
    "name": "ipython",
    "version": 3
   },
   "file_extension": ".py",
   "mimetype": "text/x-python",
   "name": "python",
   "nbconvert_exporter": "python",
   "pygments_lexer": "ipython3",
   "version": "3.11.0"
  }
 },
 "nbformat": 4,
 "nbformat_minor": 2
}
